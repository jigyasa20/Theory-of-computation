{
 "cells": [
  {
   "cell_type": "code",
   "execution_count": 2,
   "metadata": {},
   "outputs": [
    {
     "name": "stdout",
     "output_type": "stream",
     "text": [
      "[545]\n",
      "[545, 43]\n",
      "[545, 43, 366]\n",
      "[545, 43, 366, 389]\n",
      "[545, 43, 366, 389, 3754]\n",
      "[545, 43, 366, 389, 3754, 10]\n",
      "[545, 43, 366, 389, 3754]\n"
     ]
    }
   ],
   "source": [
    "class Stack:\n",
    "    def __init__(self):\n",
    "        self.l=[]\n",
    "    def push(self,x):\n",
    "        self.l.append(x)\n",
    "        print(self.l)\n",
    "    def pop(self):\n",
    "        self.l.pop()\n",
    "        print(self.l)\n",
    "    def isempty(self):\n",
    "        return len(l)==0\n",
    "a=Stack()\n",
    "a.push(545)\n",
    "a.push(43)\n",
    "a.push(366)\n",
    "a.push(389)\n",
    "a.push(3754)\n",
    "a.push(10)\n",
    "a.pop()"
   ]
  },
  {
   "cell_type": "code",
   "execution_count": 2,
   "metadata": {},
   "outputs": [
    {
     "name": "stdout",
     "output_type": "stream",
     "text": [
      "[467]\n",
      "[467, 284]\n",
      "[467, 284, 3]\n",
      "[467, 284, 3, 93]\n",
      "[467, 284, 3, 93, 583]\n",
      "[467, 284, 3, 93, 583, 63]\n",
      "[284, 3, 93, 583, 63]\n",
      "5\n"
     ]
    }
   ],
   "source": [
    "class Queue:\n",
    "    def __init__(self):\n",
    "        self.l=[]\n",
    "    def enqueue(self,x):\n",
    "        self.l.append(x)\n",
    "        print(self.l)\n",
    "    def dequeue(self):\n",
    "        self.l.pop(0)\n",
    "        print(self.l)\n",
    "    def size(self):\n",
    "        return(len(self.l))\n",
    "q=Queue()\n",
    "q.enqueue(467)\n",
    "q.enqueue(284)\n",
    "q.enqueue(3)\n",
    "q.enqueue(93)\n",
    "q.enqueue(583)\n",
    "q.enqueue(63)\n",
    "q.dequeue()\n",
    "print(q.size())"
   ]
  },
  {
   "cell_type": "code",
   "execution_count": null,
   "metadata": {},
   "outputs": [
    {
     "name": "stdin",
     "output_type": "stream",
     "text": [
      "Enter size of queue: 10\n",
      "At which posistin do you want to insert the value: 3\n",
      "Enter element: 10\n"
     ]
    },
    {
     "name": "stdout",
     "output_type": "stream",
     "text": [
      "[10]\n"
     ]
    },
    {
     "name": "stdin",
     "output_type": "stream",
     "text": [
      "At which posistin do you want to insert the value: 2\n",
      "Enter element: 39\n"
     ]
    },
    {
     "name": "stdout",
     "output_type": "stream",
     "text": [
      "[39, 10]\n"
     ]
    },
    {
     "name": "stdin",
     "output_type": "stream",
     "text": [
      "At which posistin do you want to insert the value: 1\n",
      "Enter element: 76\n"
     ]
    },
    {
     "name": "stdout",
     "output_type": "stream",
     "text": [
      "[76, 39, 10]\n"
     ]
    },
    {
     "name": "stdin",
     "output_type": "stream",
     "text": [
      "At which posistin do you want to insert the value: 4\n",
      "Enter element: 70\n"
     ]
    },
    {
     "name": "stdout",
     "output_type": "stream",
     "text": [
      "[70, 76, 39, 10]\n"
     ]
    },
    {
     "name": "stdin",
     "output_type": "stream",
     "text": [
      "At which posistin do you want to insert the value: 5\n",
      "Enter element: 20\n"
     ]
    },
    {
     "name": "stdout",
     "output_type": "stream",
     "text": [
      "[20, 70, 76, 39, 10]\n"
     ]
    }
   ],
   "source": [
    "class Queue:\n",
    "    def __init__(self):\n",
    "        self.l=[]\n",
    "    def enqueue(self,x):\n",
    "        self.l.append(x)\n",
    "        print(self.l)\n",
    "    def add(self,y):\n",
    "        self.l.insert(0,y)\n",
    "        print(self.l)\n",
    "    def dequeue(self):\n",
    "        self.l.pop(0)\n",
    "        print(self.l)\n",
    "    def de(self):\n",
    "        self.l.pop()\n",
    "        print(self.l)\n",
    "    def size(self):\n",
    "        retrun(len(self.l))\n",
    "\n",
    "q=Queue()\n",
    "s=int(input(\"Enter size of queue:\"))\n",
    "while(s):\n",
    "    n=int(input(\"At which posistin do you want to insert the value:\"))\n",
    "    e=int(input(\"Enter element:\"))\n",
    "    if(n==0):\n",
    "        q.enqueue(e)\n",
    "    else:\n",
    "        q.add(e)\n",
    "    s=s-1\n",
    "d=int(input(\"At which posistin do you want to delete the value:\"))\n",
    "if(d==0):\n",
    "    q.dequeue()\n",
    "else:\n",
    "    q.de()"
   ]
  },
  {
   "cell_type": "code",
   "execution_count": null,
   "metadata": {},
   "outputs": [],
   "source": []
  }
 ],
 "metadata": {
  "kernelspec": {
   "display_name": "Python 3",
   "language": "python",
   "name": "python3"
  },
  "language_info": {
   "codemirror_mode": {
    "name": "ipython",
    "version": 3
   },
   "file_extension": ".py",
   "mimetype": "text/x-python",
   "name": "python",
   "nbconvert_exporter": "python",
   "pygments_lexer": "ipython3",
   "version": "3.7.3"
  }
 },
 "nbformat": 4,
 "nbformat_minor": 4
}
