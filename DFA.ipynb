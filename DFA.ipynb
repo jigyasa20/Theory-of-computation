{
 "cells": [
  {
   "cell_type": "code",
   "execution_count": null,
   "metadata": {},
   "outputs": [],
   "source": [
    "#defining states in dfa\n",
    "dfa={'q0':{'0':'q1','1':'q1'},\n",
    "    'q1':{'0':'q1','1':'q1'}\n",
    " }\n",
    "dfa['q0']"
   ]
  },
  {
   "cell_type": "code",
   "execution_count": 10,
   "metadata": {},
   "outputs": [
    {
     "name": "stdout",
     "output_type": "stream",
     "text": [
      "[{}, {}]\n"
     ]
    }
   ],
   "source": [
    "#accessing the elements \n",
    "nstates=['q0','q1']\n",
    "moves=[{}for i in nstates]\n",
    "print(moves)\n",
    "       "
   ]
  },
  {
   "cell_type": "code",
   "execution_count": 11,
   "metadata": {},
   "outputs": [],
   "source": [
    "def fun(inp,char,op):\n",
    "    moves[inp][char]=op"
   ]
  },
  {
   "cell_type": "code",
   "execution_count": 12,
   "metadata": {},
   "outputs": [],
   "source": [
    "fun(0,'a',1)"
   ]
  },
  {
   "cell_type": "code",
   "execution_count": 13,
   "metadata": {},
   "outputs": [
    {
     "name": "stdout",
     "output_type": "stream",
     "text": [
      "[{'a': 1}, {}]\n"
     ]
    }
   ],
   "source": [
    "print(moves)"
   ]
  },
  {
   "cell_type": "code",
   "execution_count": null,
   "metadata": {},
   "outputs": [],
   "source": [
    "#program to implement dfa which accepts the language containg stringsending with 1's \n",
    "dfa={\n",
    "    'q0':{'0':'q0','1':'q1'},\n",
    "    'q1':{'0':'q0','1':'q2'},\n",
    "    'q2':{'0':'q0','1':'q3'},\n",
    "    'q3':{'0':'q3','1':'q3'}\n",
    "     }\n",
    "def fun(string):\n",
    "     initial_state='q0'\n",
    "    final_state='q3'\n",
    "    cs=initial_state\n",
    "    for i in user_input:\n",
    "        cs=dfa[cs][i]\n",
    "user-input=input(\"enter the expression\")\n",
    "if cs in final_state:                 \n",
    "    print(\"acceptable\")\n",
    " else:\n",
    "    print(\"unacceptable\")"
   ]
  },
  {
   "cell_type": "code",
   "execution_count": null,
   "metadata": {},
   "outputs": [],
   "source": [
    "dfa={\n",
    "    'q0':{'0':'q0','1':'q1'},\n",
    "    'q1':{'0':'q0','1':'q2'},\n",
    "    'q2':{'0':'q0','1':'q3'},\n",
    "    'q3':{'0':'q3','1':'q3'}\n",
    "     }\n",
    "def fun(s):\n",
    "    initial_state='q0'\n",
    "    final_state='q3'\n",
    "    cs=initial_state\n",
    "    cs=dfa[cs][i]\n",
    "    if cs in final_state:\n",
    "    print(\"acceptable\")\n",
    "    else:\n",
    "    print(\"unacceptable\")\n",
    "user_input=input(\"enter the expression\")\n",
    "fun(user_input)\n",
    "    \n",
    "    "
   ]
  },
  {
   "cell_type": "code",
   "execution_count": null,
   "metadata": {},
   "outputs": [],
   "source": [
    "dfa={\n",
    "    'q0':{'0':'q0','1':'q1'},\n",
    "    'q1':{'0':'q0','1':'q2'},\n",
    "    'q2':{'0':'q0','1':'q3'},\n",
    "    'q3':{'0':'q3','1':'q3'}\n",
    "     }\n",
    "def fun(s):\n",
    "    initial_state='q0'\n",
    "    final_state='q3'\n",
    "    for i in user_input:\n",
    "    cs=initial_state\n",
    "    if cs in final_state:\n",
    "     cs=dfa[cs][i]   \n",
    "    print(\"acceptable\")\n",
    "    else:\n",
    "    print(\"unacceptable\")\n",
    "user_input=input(\"enter the expression\")\n",
    "fun(user_input)\n",
    "    \n",
    "    "
   ]
  },
  {
   "cell_type": "code",
   "execution_count": null,
   "metadata": {},
   "outputs": [],
   "source": []
  },
  {
   "cell_type": "code",
   "execution_count": null,
   "metadata": {},
   "outputs": [],
   "source": []
  },
  {
   "cell_type": "code",
   "execution_count": null,
   "metadata": {},
   "outputs": [],
   "source": []
  },
  {
   "cell_type": "code",
   "execution_count": 1,
   "metadata": {},
   "outputs": [],
   "source": [
    "dfa={\n",
    "    'q0':{'0':'q0','1':'q1'},\n",
    "    'q1':{'0':'q0','1':'q2'},\n",
    "    'q2':{'0':'q0','1':'q3'},\n",
    "    'q3':{'0':'q3','1':'q3'}\n",
    "}\n",
    "def fun(s):\n",
    "    initial_state='q0'\n",
    "    final_state={'q3'}\n",
    "    cs=initial_state\n",
    "    for i in s:\n",
    "        cs=dfa[cs][i]\n",
    "    if cs in final_state:  \n",
    "      print(\"acceptable\")\n",
    "    else:\n",
    "      print(\"unacceptable\")\n",
    "    \n",
    "    "
   ]
  },
  {
   "cell_type": "code",
   "execution_count": 1,
   "metadata": {},
   "outputs": [
    {
     "ename": "NameError",
     "evalue": "name 'fun' is not defined",
     "output_type": "error",
     "traceback": [
      "\u001b[0;31m---------------------------------------------------------------------------\u001b[0m",
      "\u001b[0;31mNameError\u001b[0m                                 Traceback (most recent call last)",
      "\u001b[0;32m<ipython-input-1-5fac70ef06fb>\u001b[0m in \u001b[0;36m<module>\u001b[0;34m\u001b[0m\n\u001b[0;32m----> 1\u001b[0;31m \u001b[0mfun\u001b[0m\u001b[0;34m(\u001b[0m\u001b[0;34m'00111'\u001b[0m\u001b[0;34m)\u001b[0m\u001b[0;34m\u001b[0m\u001b[0;34m\u001b[0m\u001b[0m\n\u001b[0m",
      "\u001b[0;31mNameError\u001b[0m: name 'fun' is not defined"
     ]
    }
   ],
   "source": [
    "fun('00111')"
   ]
  },
  {
   "cell_type": "code",
   "execution_count": 2,
   "metadata": {},
   "outputs": [
    {
     "name": "stdout",
     "output_type": "stream",
     "text": [
      "acceptable\n"
     ]
    }
   ],
   "source": [
    "fun('00111')"
   ]
  },
  {
   "cell_type": "code",
   "execution_count": 3,
   "metadata": {},
   "outputs": [
    {
     "name": "stdout",
     "output_type": "stream",
     "text": [
      "acceptable\n"
     ]
    }
   ],
   "source": [
    "fun('111')"
   ]
  },
  {
   "cell_type": "code",
   "execution_count": 4,
   "metadata": {},
   "outputs": [
    {
     "name": "stdout",
     "output_type": "stream",
     "text": [
      "unacceptable\n"
     ]
    }
   ],
   "source": [
    "fun('0011')"
   ]
  },
  {
   "cell_type": "code",
   "execution_count": null,
   "metadata": {},
   "outputs": [],
   "source": []
  }
 ],
 "metadata": {
  "kernelspec": {
   "display_name": "Python 3",
   "language": "python",
   "name": "python3"
  },
  "language_info": {
   "codemirror_mode": {
    "name": "ipython",
    "version": 3
   },
   "file_extension": ".py",
   "mimetype": "text/x-python",
   "name": "python",
   "nbconvert_exporter": "python",
   "pygments_lexer": "ipython3",
   "version": "3.7.3"
  }
 },
 "nbformat": 4,
 "nbformat_minor": 4
}
